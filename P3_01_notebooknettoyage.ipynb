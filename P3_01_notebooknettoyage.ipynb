{
 "cells": [
  {
   "cell_type": "markdown",
   "id": "f7af7444",
   "metadata": {},
   "source": [
    "# Concevez une application au service de la santé publique"
   ]
  },
  {
   "cell_type": "markdown",
   "id": "b12f524a",
   "metadata": {},
   "source": [
    "## Nettoyage du jeu de données"
   ]
  },
  {
   "cell_type": "code",
   "execution_count": 1,
   "id": "12b48a74",
   "metadata": {},
   "outputs": [],
   "source": [
    "import pandas as pd\n",
    "import numpy as np\n",
    "import missingno as msno\n",
    "\n",
    "import matplotlib\n",
    "import matplotlib.pyplot as plt\n",
    "import seaborn as sns\n",
    "\n",
    "import sklearn\n",
    "from sklearn.preprocessing import StandardScaler\n",
    "from sklearn.neighbors import KNeighborsRegressor\n",
    "from sklearn.model_selection import train_test_split\n",
    "from sklearn.model_selection import GridSearchCV"
   ]
  },
  {
   "cell_type": "code",
   "execution_count": 2,
   "id": "6bddbc8a",
   "metadata": {},
   "outputs": [
    {
     "name": "stdout",
     "output_type": "stream",
     "text": [
      "pandas version :  1.2.4 \n",
      "\n",
      "numpy version :  1.20.1 \n",
      "\n",
      "missingno version :  0.5.0 \n",
      "\n",
      "matplotlib version :  3.3.4 \n",
      "\n",
      "seaborn version :  0.11.2 \n",
      "\n",
      "sklearn version :  0.24.1 \n",
      "\n"
     ]
    }
   ],
   "source": [
    "print('pandas version : ', pd.__version__, '\\n')\n",
    "print('numpy version : ', np.__version__, '\\n')\n",
    "print('missingno version : ', msno.__version__, '\\n')\n",
    "print('matplotlib version : ', matplotlib.__version__, '\\n')\n",
    "print('seaborn version : ', sns.__version__, '\\n')\n",
    "print('sklearn version : ', sklearn.__version__, '\\n')"
   ]
  },
  {
   "cell_type": "markdown",
   "id": "5c7b4d00",
   "metadata": {},
   "source": [
    "Nous allons nous intéresser seulement à certaines colonnes du jeu de données fourni par OpenFoodFacts.  Nous allons nous concentrer sur les produits vendus en France et sur les valeurs nutritionnelles de ces produits qui entrent dans le calcul de leur Nutriscore (teneur énergétique, protéine, teneur en fruits et légumes, sucre, gras saturés, fibre et sodium). Nous allons aussi garder des colonnes qui permettent d'obtenir des informations supplémentaires sur le produit (code barre, catégorie de produit, présence ou non d'additifs et d'huile de palme, photos des produits)."
   ]
  },
  {
   "cell_type": "code",
   "execution_count": 3,
   "id": "86d75864",
   "metadata": {},
   "outputs": [],
   "source": [
    "liste_colonnes = ['created_datetime','product_name', 'generic_name', 'code',\\\n",
    "                  'pnns_groups_2', 'countries', 'countries_tags',\\\n",
    "                  'additives_n', 'additives_tags', 'ingredients_from_palm_oil_n',\\\n",
    "                  'ingredients_from_palm_oil_tags','ingredients_that_may_be_from_palm_oil_n',\\\n",
    "                  'ingredients_that_may_be_from_palm_oil_tags', 'image_url',\\\n",
    "                  'image_small_url', 'energy_100g', 'energy-kj_100g',\\\n",
    "                  'energy-kcal_100g', 'proteins_100g', 'sugars_100g', 'saturated-fat_100g', 'fiber_100g',\\\n",
    "                  'sodium_100g', 'fruits-vegetables-nuts_100g',\\\n",
    "                  'fruits-vegetables-nuts-estimate-from-ingredients_100g',\\\n",
    "                  'nutrition-score-fr_100g', 'nutriscore_score', 'nutriscore_grade']"
   ]
  },
  {
   "cell_type": "code",
   "execution_count": 4,
   "id": "ddba7036",
   "metadata": {},
   "outputs": [],
   "source": [
    "data = pd.read_csv('en.openfoodfacts.org.products.csv', sep = '\\t', iterator = True, low_memory = False,\\\n",
    "                   usecols = liste_colonnes, chunksize = 100000)\n",
    "\n",
    "df = pd.concat(data, ignore_index = True)"
   ]
  },
  {
   "cell_type": "code",
   "execution_count": 5,
   "id": "677d5374",
   "metadata": {},
   "outputs": [
    {
     "data": {
      "text/plain": [
       "(2017243, 28)"
      ]
     },
     "execution_count": 5,
     "metadata": {},
     "output_type": "execute_result"
    }
   ],
   "source": [
    "#Regardons la taille de notre jeu de données\n",
    "df.shape"
   ]
  },
  {
   "cell_type": "markdown",
   "id": "4373d362",
   "metadata": {},
   "source": [
    "Vérifions s'il y a des doublons."
   ]
  },
  {
   "cell_type": "code",
   "execution_count": 6,
   "id": "dae85afe",
   "metadata": {},
   "outputs": [
    {
     "data": {
      "text/plain": [
       "6"
      ]
     },
     "execution_count": 6,
     "metadata": {},
     "output_type": "execute_result"
    }
   ],
   "source": [
    "df.duplicated().sum()"
   ]
  },
  {
   "cell_type": "code",
   "execution_count": 7,
   "id": "235096e8",
   "metadata": {},
   "outputs": [],
   "source": [
    "df.drop_duplicates(inplace = True)"
   ]
  },
  {
   "cell_type": "code",
   "execution_count": 8,
   "id": "43eefac8",
   "metadata": {},
   "outputs": [
    {
     "data": {
      "text/plain": [
       "(2017237, 28)"
      ]
     },
     "execution_count": 8,
     "metadata": {},
     "output_type": "execute_result"
    }
   ],
   "source": [
    "df.shape"
   ]
  },
  {
   "cell_type": "code",
   "execution_count": 9,
   "id": "afc40eaa",
   "metadata": {},
   "outputs": [
    {
     "name": "stdout",
     "output_type": "stream",
     "text": [
      "code                                                           0\n",
      "created_datetime                                               0\n",
      "product_name                                               82508\n",
      "generic_name                                             1895763\n",
      "countries                                                   6139\n",
      "countries_tags                                              6144\n",
      "additives_n                                              1290321\n",
      "additives_tags                                           1598237\n",
      "ingredients_from_palm_oil_n                              1290321\n",
      "ingredients_from_palm_oil_tags                           2002719\n",
      "ingredients_that_may_be_from_palm_oil_n                  1290321\n",
      "ingredients_that_may_be_from_palm_oil_tags               1974200\n",
      "nutriscore_score                                         1292959\n",
      "nutriscore_grade                                         1292959\n",
      "pnns_groups_2                                                119\n",
      "image_url                                                 466496\n",
      "image_small_url                                           466496\n",
      "energy-kj_100g                                           1871798\n",
      "energy-kcal_100g                                          468808\n",
      "energy_100g                                               417709\n",
      "saturated-fat_100g                                        469025\n",
      "sugars_100g                                               441635\n",
      "fiber_100g                                               1519131\n",
      "proteins_100g                                             424412\n",
      "sodium_100g                                               512810\n",
      "fruits-vegetables-nuts_100g                              2008132\n",
      "fruits-vegetables-nuts-estimate-from-ingredients_100g    1291839\n",
      "nutrition-score-fr_100g                                  1292954\n",
      "dtype: int64 \n",
      "\n",
      "code                                                     0.000000\n",
      "created_datetime                                         0.000000\n",
      "product_name                                             0.040901\n",
      "generic_name                                             0.939782\n",
      "countries                                                0.003043\n",
      "countries_tags                                           0.003046\n",
      "additives_n                                              0.639648\n",
      "additives_tags                                           0.792290\n",
      "ingredients_from_palm_oil_n                              0.639648\n",
      "ingredients_from_palm_oil_tags                           0.992803\n",
      "ingredients_that_may_be_from_palm_oil_n                  0.639648\n",
      "ingredients_that_may_be_from_palm_oil_tags               0.978665\n",
      "nutriscore_score                                         0.640955\n",
      "nutriscore_grade                                         0.640955\n",
      "pnns_groups_2                                            0.000059\n",
      "image_url                                                0.231255\n",
      "image_small_url                                          0.231255\n",
      "energy-kj_100g                                           0.927902\n",
      "energy-kcal_100g                                         0.232401\n",
      "energy_100g                                              0.207070\n",
      "saturated-fat_100g                                       0.232509\n",
      "sugars_100g                                              0.218931\n",
      "fiber_100g                                               0.753075\n",
      "proteins_100g                                            0.210393\n",
      "sodium_100g                                              0.254214\n",
      "fruits-vegetables-nuts_100g                              0.995486\n",
      "fruits-vegetables-nuts-estimate-from-ingredients_100g    0.640400\n",
      "nutrition-score-fr_100g                                  0.640953\n",
      "dtype: float64\n"
     ]
    }
   ],
   "source": [
    "print(df.isnull().sum(), '\\n')\n",
    "print(df.isnull().mean())"
   ]
  },
  {
   "cell_type": "markdown",
   "id": "68f8b940",
   "metadata": {},
   "source": [
    "Il y a énormément de valeurs manquantes dans notre DataFrame, certaines colonnes sont quasiment vides. Nous regarderons nos valeurs manquantes après un premier tri."
   ]
  },
  {
   "cell_type": "code",
   "execution_count": 10,
   "id": "804c8bb3",
   "metadata": {},
   "outputs": [],
   "source": [
    "#On supprime les avertissements nous indiquant que l'on change les valeurs de notre jeu de données d'origine\n",
    "pd.options.mode.chained_assignment = None"
   ]
  },
  {
   "cell_type": "code",
   "execution_count": 11,
   "id": "d111ec84",
   "metadata": {},
   "outputs": [],
   "source": [
    "def remplacement(col1, col2, data):\n",
    "    \"\"\"\n",
    "    Prend deux colonnes d'un dataframe afin de remplir une partie des valeurs manquantes de la première par \n",
    "    des valeurs existantes de la seconde. Retourne un dataframe avec moins de valeurs manquantes si possible.\n",
    "    \n",
    "            Parameters:\n",
    "                col1 (object): colonne de DataFrame où on veut remplacer des valeurs manquantes\n",
    "                col2 (object): colonne de DataFrame qui servir à remplacer si possible\n",
    "                data : dataframe à utiliser\n",
    "                \n",
    "    Exemple :\n",
    "        remplacement('product_name','generic_name') va remplacer des valeurs manquantes de 'product_name' par\n",
    "        des valeurs de 'generic_name' si les valeurs de 'generic_name' ne sont pas elles-mêmes manquantes.\n",
    "    \"\"\"\n",
    "    data[col1].fillna(data[col2], inplace = True)    \n",
    "    data.drop(columns = [col2], inplace = True)"
   ]
  },
  {
   "cell_type": "markdown",
   "id": "dd60b1b7",
   "metadata": {},
   "source": [
    "Nous allons nous assurer du types des données dans nos colonnes afin de pouvoir filtrer convenablement nos données."
   ]
  },
  {
   "cell_type": "code",
   "execution_count": 12,
   "id": "948dee5e",
   "metadata": {},
   "outputs": [
    {
     "data": {
      "text/plain": [
       "Index(['code', 'created_datetime', 'product_name', 'generic_name', 'countries',\n",
       "       'countries_tags', 'additives_n', 'additives_tags',\n",
       "       'ingredients_from_palm_oil_n', 'ingredients_from_palm_oil_tags',\n",
       "       'ingredients_that_may_be_from_palm_oil_n',\n",
       "       'ingredients_that_may_be_from_palm_oil_tags', 'nutriscore_score',\n",
       "       'nutriscore_grade', 'pnns_groups_2', 'image_url', 'image_small_url',\n",
       "       'energy-kj_100g', 'energy-kcal_100g', 'energy_100g',\n",
       "       'saturated-fat_100g', 'sugars_100g', 'fiber_100g', 'proteins_100g',\n",
       "       'sodium_100g', 'fruits-vegetables-nuts_100g',\n",
       "       'fruits-vegetables-nuts-estimate-from-ingredients_100g',\n",
       "       'nutrition-score-fr_100g'],\n",
       "      dtype='object')"
      ]
     },
     "execution_count": 12,
     "metadata": {},
     "output_type": "execute_result"
    }
   ],
   "source": [
    "df.columns"
   ]
  },
  {
   "cell_type": "code",
   "execution_count": 13,
   "id": "34493b3c",
   "metadata": {},
   "outputs": [
    {
     "data": {
      "text/plain": [
       "code                                                      object\n",
       "created_datetime                                          object\n",
       "product_name                                              object\n",
       "generic_name                                              object\n",
       "countries                                                 object\n",
       "countries_tags                                            object\n",
       "additives_n                                              float64\n",
       "additives_tags                                            object\n",
       "ingredients_from_palm_oil_n                              float64\n",
       "ingredients_from_palm_oil_tags                            object\n",
       "ingredients_that_may_be_from_palm_oil_n                  float64\n",
       "ingredients_that_may_be_from_palm_oil_tags                object\n",
       "nutriscore_score                                         float64\n",
       "nutriscore_grade                                          object\n",
       "pnns_groups_2                                             object\n",
       "image_url                                                 object\n",
       "image_small_url                                           object\n",
       "energy-kj_100g                                           float64\n",
       "energy-kcal_100g                                         float64\n",
       "energy_100g                                              float64\n",
       "saturated-fat_100g                                       float64\n",
       "sugars_100g                                              float64\n",
       "fiber_100g                                               float64\n",
       "proteins_100g                                            float64\n",
       "sodium_100g                                              float64\n",
       "fruits-vegetables-nuts_100g                              float64\n",
       "fruits-vegetables-nuts-estimate-from-ingredients_100g    float64\n",
       "nutrition-score-fr_100g                                  float64\n",
       "dtype: object"
      ]
     },
     "execution_count": 13,
     "metadata": {},
     "output_type": "execute_result"
    }
   ],
   "source": [
    "df.dtypes"
   ]
  },
  {
   "cell_type": "code",
   "execution_count": 14,
   "id": "dff72c55",
   "metadata": {},
   "outputs": [],
   "source": [
    "#On ne va pas utiliser la colonne \"code\" qui correspond aux codes barres de nos produits pendant le nettoyage\n",
    "# et l'analyse des données : la colonne est remplie et ne sera utile que pour notre application\n",
    "\n",
    "str_col = ['created_datetime', 'product_name', 'generic_name', 'countries',\\\n",
    "           'countries_tags', 'additives_tags', 'ingredients_from_palm_oil_tags',\\\n",
    "           'ingredients_that_may_be_from_palm_oil_tags', 'nutriscore_grade',\\\n",
    "           'pnns_groups_2', 'image_url', 'image_small_url']\n",
    "\n",
    "num_col = ['additives_n', 'ingredients_from_palm_oil_n', 'ingredients_that_may_be_from_palm_oil_n',\\\n",
    "           'nutriscore_score', 'energy-kj_100g', 'energy-kcal_100g', 'energy_100g',\\\n",
    "           'saturated-fat_100g', 'sugars_100g', 'fiber_100g', 'proteins_100g', 'sodium_100g',\\\n",
    "           'fruits-vegetables-nuts_100g', 'fruits-vegetables-nuts-estimate-from-ingredients_100g',\\\n",
    "           'nutrition-score-fr_100g']"
   ]
  },
  {
   "cell_type": "markdown",
   "id": "559c677f",
   "metadata": {},
   "source": [
    "On commence par remplacer les valeurs numériques des colonnes qui ne devraient avoir que des chaînes de caractères."
   ]
  },
  {
   "cell_type": "code",
   "execution_count": 15,
   "id": "6048e5aa",
   "metadata": {},
   "outputs": [],
   "source": [
    "for col in str_col:\n",
    "    df[col] = df[col].mask(pd.to_numeric(df[col], errors = 'coerce').notna())"
   ]
  },
  {
   "cell_type": "markdown",
   "id": "9e577856",
   "metadata": {},
   "source": [
    "Maintenant, nous nous assurons que les colonnes numériques ont bien uniquement des valeurs numériques."
   ]
  },
  {
   "cell_type": "code",
   "execution_count": 16,
   "id": "4cfe1015",
   "metadata": {},
   "outputs": [],
   "source": [
    "for col in num_col:\n",
    "    df[col] = pd.to_numeric(df[col], errors = 'coerce')"
   ]
  },
  {
   "cell_type": "markdown",
   "id": "b0457f36",
   "metadata": {},
   "source": [
    "Nous allons nous concentrer sur les produits vendus en France."
   ]
  },
  {
   "cell_type": "code",
   "execution_count": 17,
   "id": "c996396e",
   "metadata": {},
   "outputs": [],
   "source": [
    "df['countries_tags'] = df['countries_tags'].str.lower()\n",
    "df['countries'] = df['countries'].str.lower()"
   ]
  },
  {
   "cell_type": "code",
   "execution_count": 18,
   "id": "9b78f4da",
   "metadata": {},
   "outputs": [],
   "source": [
    "remplacement('countries_tags', 'countries', df)"
   ]
  },
  {
   "cell_type": "code",
   "execution_count": 19,
   "id": "4b4b0eb3",
   "metadata": {},
   "outputs": [],
   "source": [
    "df.dropna(subset=['countries_tags'], inplace = True)"
   ]
  },
  {
   "cell_type": "code",
   "execution_count": 20,
   "id": "b805d048",
   "metadata": {},
   "outputs": [],
   "source": [
    "df_fr = df[df['countries_tags'].str.contains('france')]"
   ]
  },
  {
   "cell_type": "markdown",
   "id": "3b588794",
   "metadata": {},
   "source": [
    "La colonne 'countries-tags' ne va plus nous servir."
   ]
  },
  {
   "cell_type": "code",
   "execution_count": 21,
   "id": "96479912",
   "metadata": {},
   "outputs": [],
   "source": [
    "df_fr.drop(columns = ['countries_tags'], inplace = True)"
   ]
  },
  {
   "cell_type": "code",
   "execution_count": 22,
   "id": "1293e4f6",
   "metadata": {},
   "outputs": [
    {
     "data": {
      "text/plain": [
       "(850707, 26)"
      ]
     },
     "execution_count": 22,
     "metadata": {},
     "output_type": "execute_result"
    }
   ],
   "source": [
    "#Regardons combien de lignes nous avons gardé\n",
    "df_fr.shape"
   ]
  },
  {
   "cell_type": "markdown",
   "id": "761a9ceb",
   "metadata": {},
   "source": [
    "Nous allons essayer de garder le plus de produit possible grâce à notre fonction, mais on va commencer par supprimer les produits qui ont été entrés plusieurs fois en considérant que l'entrée la plus récente est juste."
   ]
  },
  {
   "cell_type": "code",
   "execution_count": 23,
   "id": "f4fe6d59",
   "metadata": {},
   "outputs": [],
   "source": [
    "df_fr = df_fr.sort_values('created_datetime', ascending = False)\n",
    "df_fr.drop_duplicates(subset = ['product_name'], inplace = True)"
   ]
  },
  {
   "cell_type": "markdown",
   "id": "c11bab28",
   "metadata": {},
   "source": [
    "Nous supprimons la colonne \"created_datetime\" que nous n'allons plus utiliser."
   ]
  },
  {
   "cell_type": "code",
   "execution_count": 24,
   "id": "3578797d",
   "metadata": {},
   "outputs": [],
   "source": [
    "df_fr.drop(columns = ['created_datetime'], inplace = True)"
   ]
  },
  {
   "cell_type": "code",
   "execution_count": 25,
   "id": "3f0abad7",
   "metadata": {},
   "outputs": [],
   "source": [
    "remplacement('product_name', 'generic_name', df_fr)"
   ]
  },
  {
   "cell_type": "markdown",
   "id": "80d87e31",
   "metadata": {},
   "source": [
    "On regarde si nous avons encore des lignes sans nom de produit et on les supprime."
   ]
  },
  {
   "cell_type": "code",
   "execution_count": 26,
   "id": "aa1652a3",
   "metadata": {},
   "outputs": [
    {
     "data": {
      "text/plain": [
       "1"
      ]
     },
     "execution_count": 26,
     "metadata": {},
     "output_type": "execute_result"
    }
   ],
   "source": [
    "df_fr['product_name'].isnull().sum()"
   ]
  },
  {
   "cell_type": "code",
   "execution_count": 27,
   "id": "40d1b57c",
   "metadata": {},
   "outputs": [],
   "source": [
    "df_fr = df_fr.dropna(subset = ['product_name'])"
   ]
  },
  {
   "cell_type": "code",
   "execution_count": 28,
   "id": "4a8dc3c6",
   "metadata": {},
   "outputs": [
    {
     "data": {
      "text/plain": [
       "(558975, 24)"
      ]
     },
     "execution_count": 28,
     "metadata": {},
     "output_type": "execute_result"
    }
   ],
   "source": [
    "df_fr.shape"
   ]
  },
  {
   "cell_type": "markdown",
   "id": "2faac990",
   "metadata": {},
   "source": [
    "Nous allons maintenant nous occuper de nos colonnes concernant l'huile de palme.  Ici, ce qui nous importe c'est de savoir s'il peut y en avoir dans le produit ou pas, la quantité n'est pas importante."
   ]
  },
  {
   "cell_type": "code",
   "execution_count": 29,
   "id": "f4e65002",
   "metadata": {},
   "outputs": [],
   "source": [
    "huile_palme = ['ingredients_from_palm_oil_tags', 'ingredients_that_may_be_from_palm_oil_n',\\\n",
    "               'ingredients_that_may_be_from_palm_oil_tags']"
   ]
  },
  {
   "cell_type": "code",
   "execution_count": 30,
   "id": "3ac995a0",
   "metadata": {},
   "outputs": [],
   "source": [
    "for i in huile_palme:\n",
    "    remplacement('ingredients_from_palm_oil_n', i, df_fr)"
   ]
  },
  {
   "cell_type": "code",
   "execution_count": 31,
   "id": "6ad633d8",
   "metadata": {},
   "outputs": [],
   "source": [
    "#On renomme notre dernière colonne concernant l'huile de palme pour plus de lisibilité\n",
    "df_fr.rename(columns = {'ingredients_from_palm_oil_n' : 'huile_palme'}, inplace = True)"
   ]
  },
  {
   "cell_type": "markdown",
   "id": "0ac0cbc9",
   "metadata": {},
   "source": [
    "Maintenant, nous allons juste remplacer les valeurs par des messages indiquant la présence, ou non, d'huile de palme."
   ]
  },
  {
   "cell_type": "code",
   "execution_count": 32,
   "id": "c5e39a97",
   "metadata": {},
   "outputs": [],
   "source": [
    "df_fr['huile_palme'] = df_fr['huile_palme'].fillna(0)"
   ]
  },
  {
   "cell_type": "code",
   "execution_count": 33,
   "id": "0201c17a",
   "metadata": {},
   "outputs": [],
   "source": [
    "df_fr.loc[df_fr['huile_palme'] > 0, 'huile_palme'] = 1"
   ]
  },
  {
   "cell_type": "code",
   "execution_count": 34,
   "id": "b7727965",
   "metadata": {},
   "outputs": [],
   "source": [
    "df_fr['huile_palme'].replace({0.0 : \"Pas d'huile de palme a priori !\",\\\n",
    "                              1: \"Attention traces possible d'huile de palme !\"}, inplace = True)"
   ]
  },
  {
   "cell_type": "code",
   "execution_count": 35,
   "id": "d560e9fa",
   "metadata": {},
   "outputs": [
    {
     "data": {
      "text/plain": [
       "array([\"Pas d'huile de palme a priori !\",\n",
       "       \"Attention traces possible d'huile de palme !\"], dtype=object)"
      ]
     },
     "execution_count": 35,
     "metadata": {},
     "output_type": "execute_result"
    }
   ],
   "source": [
    "#On vérifie que les valeurs ont bien été remplacées\n",
    "df_fr['huile_palme'].unique()"
   ]
  },
  {
   "cell_type": "markdown",
   "id": "fee89022",
   "metadata": {},
   "source": [
    "Nous faisons la même chose pour les additifs."
   ]
  },
  {
   "cell_type": "code",
   "execution_count": 36,
   "id": "e246d52a",
   "metadata": {},
   "outputs": [],
   "source": [
    "remplacement('additives_n', 'additives_tags', df_fr)"
   ]
  },
  {
   "cell_type": "code",
   "execution_count": 37,
   "id": "a6f63b79",
   "metadata": {},
   "outputs": [],
   "source": [
    "df_fr.rename(columns = {'additives_n' : 'additives'}, inplace = True)"
   ]
  },
  {
   "cell_type": "code",
   "execution_count": 38,
   "id": "b34605c3",
   "metadata": {},
   "outputs": [],
   "source": [
    "df_fr['additives'] = df_fr['additives'].fillna(0)"
   ]
  },
  {
   "cell_type": "code",
   "execution_count": 39,
   "id": "3d84bdae",
   "metadata": {},
   "outputs": [],
   "source": [
    "df_fr.loc[df_fr['additives'] > 0, 'additives'] = 1"
   ]
  },
  {
   "cell_type": "code",
   "execution_count": 40,
   "id": "73caac16",
   "metadata": {},
   "outputs": [],
   "source": [
    "df_fr['additives'].replace({0.0 : \"Pas d'additif a priori !\",\\\n",
    "                              1: \"Attention traces possible d'additifs !\"}, inplace = True)"
   ]
  },
  {
   "cell_type": "code",
   "execution_count": 41,
   "id": "3c7a37ef",
   "metadata": {},
   "outputs": [
    {
     "data": {
      "text/plain": [
       "array([\"Pas d'additif a priori !\",\n",
       "       \"Attention traces possible d'additifs !\"], dtype=object)"
      ]
     },
     "execution_count": 41,
     "metadata": {},
     "output_type": "execute_result"
    }
   ],
   "source": [
    "df_fr['additives'].unique()"
   ]
  },
  {
   "cell_type": "markdown",
   "id": "958ef412",
   "metadata": {},
   "source": [
    "Pour nos colonnes nutritionnelles (exceptées celles liées à l'énergie), nous allons supprimer les valeurs aberrantes (valeurs négatives et valeurs supérieures à 100)."
   ]
  },
  {
   "cell_type": "code",
   "execution_count": 42,
   "id": "6a26be0f",
   "metadata": {},
   "outputs": [],
   "source": [
    "colonnes_100g = ['saturated-fat_100g', 'sugars_100g', 'fiber_100g', 'proteins_100g', 'sodium_100g',\\\n",
    "                 'fruits-vegetables-nuts_100g', 'fruits-vegetables-nuts-estimate-from-ingredients_100g']"
   ]
  },
  {
   "cell_type": "code",
   "execution_count": 43,
   "id": "467e956c",
   "metadata": {},
   "outputs": [],
   "source": [
    "for col in colonnes_100g:\n",
    "    df_fr = df_fr.drop(df_fr[df_fr[col] > 100].index)\n",
    "    df_fr = df_fr.drop(df_fr[df_fr[col] < 0].index)"
   ]
  },
  {
   "cell_type": "markdown",
   "id": "86b0f331",
   "metadata": {},
   "source": [
    "On supprimes les produits avec une teneur en sodium importante (plus de 2.8g)."
   ]
  },
  {
   "cell_type": "code",
   "execution_count": 44,
   "id": "28595111",
   "metadata": {},
   "outputs": [],
   "source": [
    "df_fr = df_fr.drop(df_fr[df_fr['sodium_100g'] > 2.8].index)"
   ]
  },
  {
   "cell_type": "code",
   "execution_count": 45,
   "id": "c9c7fc7a",
   "metadata": {},
   "outputs": [
    {
     "data": {
      "text/html": [
       "<div>\n",
       "<style scoped>\n",
       "    .dataframe tbody tr th:only-of-type {\n",
       "        vertical-align: middle;\n",
       "    }\n",
       "\n",
       "    .dataframe tbody tr th {\n",
       "        vertical-align: top;\n",
       "    }\n",
       "\n",
       "    .dataframe thead th {\n",
       "        text-align: right;\n",
       "    }\n",
       "</style>\n",
       "<table border=\"1\" class=\"dataframe\">\n",
       "  <thead>\n",
       "    <tr style=\"text-align: right;\">\n",
       "      <th></th>\n",
       "      <th>nutriscore_score</th>\n",
       "      <th>energy-kj_100g</th>\n",
       "      <th>energy-kcal_100g</th>\n",
       "      <th>energy_100g</th>\n",
       "      <th>saturated-fat_100g</th>\n",
       "      <th>sugars_100g</th>\n",
       "      <th>fiber_100g</th>\n",
       "      <th>proteins_100g</th>\n",
       "      <th>sodium_100g</th>\n",
       "      <th>fruits-vegetables-nuts_100g</th>\n",
       "      <th>fruits-vegetables-nuts-estimate-from-ingredients_100g</th>\n",
       "      <th>nutrition-score-fr_100g</th>\n",
       "    </tr>\n",
       "  </thead>\n",
       "  <tbody>\n",
       "    <tr>\n",
       "      <th>count</th>\n",
       "      <td>182434.000000</td>\n",
       "      <td>54650.000000</td>\n",
       "      <td>419127.000000</td>\n",
       "      <td>436636.000000</td>\n",
       "      <td>435128.000000</td>\n",
       "      <td>434927.000000</td>\n",
       "      <td>100705.000000</td>\n",
       "      <td>433659.000000</td>\n",
       "      <td>418627.000000</td>\n",
       "      <td>4182.000000</td>\n",
       "      <td>169908.000000</td>\n",
       "      <td>182436.000000</td>\n",
       "    </tr>\n",
       "    <tr>\n",
       "      <th>mean</th>\n",
       "      <td>9.505498</td>\n",
       "      <td>1091.897970</td>\n",
       "      <td>276.528158</td>\n",
       "      <td>1151.790776</td>\n",
       "      <td>5.223740</td>\n",
       "      <td>14.318955</td>\n",
       "      <td>3.068176</td>\n",
       "      <td>8.340878</td>\n",
       "      <td>0.330495</td>\n",
       "      <td>35.169820</td>\n",
       "      <td>10.764252</td>\n",
       "      <td>9.505586</td>\n",
       "    </tr>\n",
       "    <tr>\n",
       "      <th>std</th>\n",
       "      <td>8.774694</td>\n",
       "      <td>760.409414</td>\n",
       "      <td>201.933667</td>\n",
       "      <td>839.213053</td>\n",
       "      <td>7.689196</td>\n",
       "      <td>20.107707</td>\n",
       "      <td>5.065303</td>\n",
       "      <td>9.708130</td>\n",
       "      <td>0.431340</td>\n",
       "      <td>35.477583</td>\n",
       "      <td>23.793055</td>\n",
       "      <td>8.774698</td>\n",
       "    </tr>\n",
       "    <tr>\n",
       "      <th>min</th>\n",
       "      <td>-15.000000</td>\n",
       "      <td>0.000000</td>\n",
       "      <td>0.000000</td>\n",
       "      <td>0.000000</td>\n",
       "      <td>0.000000</td>\n",
       "      <td>0.000000</td>\n",
       "      <td>0.000000</td>\n",
       "      <td>0.000000</td>\n",
       "      <td>0.000000</td>\n",
       "      <td>0.000000</td>\n",
       "      <td>0.000000</td>\n",
       "      <td>-15.000000</td>\n",
       "    </tr>\n",
       "    <tr>\n",
       "      <th>25%</th>\n",
       "      <td>2.000000</td>\n",
       "      <td>445.000000</td>\n",
       "      <td>109.000000</td>\n",
       "      <td>452.000000</td>\n",
       "      <td>0.200000</td>\n",
       "      <td>0.800000</td>\n",
       "      <td>0.300000</td>\n",
       "      <td>1.400000</td>\n",
       "      <td>0.020000</td>\n",
       "      <td>0.600000</td>\n",
       "      <td>0.000000</td>\n",
       "      <td>2.000000</td>\n",
       "    </tr>\n",
       "    <tr>\n",
       "      <th>50%</th>\n",
       "      <td>10.000000</td>\n",
       "      <td>990.000000</td>\n",
       "      <td>266.000000</td>\n",
       "      <td>1100.000000</td>\n",
       "      <td>2.000000</td>\n",
       "      <td>4.000000</td>\n",
       "      <td>1.700000</td>\n",
       "      <td>6.000000</td>\n",
       "      <td>0.184000</td>\n",
       "      <td>23.110000</td>\n",
       "      <td>0.000000</td>\n",
       "      <td>10.000000</td>\n",
       "    </tr>\n",
       "    <tr>\n",
       "      <th>75%</th>\n",
       "      <td>16.000000</td>\n",
       "      <td>1635.000000</td>\n",
       "      <td>404.000000</td>\n",
       "      <td>1686.000000</td>\n",
       "      <td>7.600000</td>\n",
       "      <td>22.000000</td>\n",
       "      <td>3.800000</td>\n",
       "      <td>11.700000</td>\n",
       "      <td>0.480000</td>\n",
       "      <td>60.000000</td>\n",
       "      <td>7.500000</td>\n",
       "      <td>16.000000</td>\n",
       "    </tr>\n",
       "    <tr>\n",
       "      <th>max</th>\n",
       "      <td>40.000000</td>\n",
       "      <td>23919.400000</td>\n",
       "      <td>18500.000000</td>\n",
       "      <td>77400.000000</td>\n",
       "      <td>100.000000</td>\n",
       "      <td>100.000000</td>\n",
       "      <td>100.000000</td>\n",
       "      <td>100.000000</td>\n",
       "      <td>2.800000</td>\n",
       "      <td>100.000000</td>\n",
       "      <td>100.000000</td>\n",
       "      <td>40.000000</td>\n",
       "    </tr>\n",
       "  </tbody>\n",
       "</table>\n",
       "</div>"
      ],
      "text/plain": [
       "       nutriscore_score  energy-kj_100g  energy-kcal_100g    energy_100g  \\\n",
       "count     182434.000000    54650.000000     419127.000000  436636.000000   \n",
       "mean           9.505498     1091.897970        276.528158    1151.790776   \n",
       "std            8.774694      760.409414        201.933667     839.213053   \n",
       "min          -15.000000        0.000000          0.000000       0.000000   \n",
       "25%            2.000000      445.000000        109.000000     452.000000   \n",
       "50%           10.000000      990.000000        266.000000    1100.000000   \n",
       "75%           16.000000     1635.000000        404.000000    1686.000000   \n",
       "max           40.000000    23919.400000      18500.000000   77400.000000   \n",
       "\n",
       "       saturated-fat_100g    sugars_100g     fiber_100g  proteins_100g  \\\n",
       "count       435128.000000  434927.000000  100705.000000  433659.000000   \n",
       "mean             5.223740      14.318955       3.068176       8.340878   \n",
       "std              7.689196      20.107707       5.065303       9.708130   \n",
       "min              0.000000       0.000000       0.000000       0.000000   \n",
       "25%              0.200000       0.800000       0.300000       1.400000   \n",
       "50%              2.000000       4.000000       1.700000       6.000000   \n",
       "75%              7.600000      22.000000       3.800000      11.700000   \n",
       "max            100.000000     100.000000     100.000000     100.000000   \n",
       "\n",
       "         sodium_100g  fruits-vegetables-nuts_100g  \\\n",
       "count  418627.000000                  4182.000000   \n",
       "mean        0.330495                    35.169820   \n",
       "std         0.431340                    35.477583   \n",
       "min         0.000000                     0.000000   \n",
       "25%         0.020000                     0.600000   \n",
       "50%         0.184000                    23.110000   \n",
       "75%         0.480000                    60.000000   \n",
       "max         2.800000                   100.000000   \n",
       "\n",
       "       fruits-vegetables-nuts-estimate-from-ingredients_100g  \\\n",
       "count                                      169908.000000       \n",
       "mean                                           10.764252       \n",
       "std                                            23.793055       \n",
       "min                                             0.000000       \n",
       "25%                                             0.000000       \n",
       "50%                                             0.000000       \n",
       "75%                                             7.500000       \n",
       "max                                           100.000000       \n",
       "\n",
       "       nutrition-score-fr_100g  \n",
       "count            182436.000000  \n",
       "mean                  9.505586  \n",
       "std                   8.774698  \n",
       "min                 -15.000000  \n",
       "25%                   2.000000  \n",
       "50%                  10.000000  \n",
       "75%                  16.000000  \n",
       "max                  40.000000  "
      ]
     },
     "execution_count": 45,
     "metadata": {},
     "output_type": "execute_result"
    }
   ],
   "source": [
    "df_fr.describe()"
   ]
  },
  {
   "cell_type": "code",
   "execution_count": 46,
   "id": "402ed81e",
   "metadata": {},
   "outputs": [
    {
     "name": "stdout",
     "output_type": "stream",
     "text": [
      "code                                                          0\n",
      "product_name                                                  0\n",
      "additives                                                     0\n",
      "huile_palme                                                   0\n",
      "nutriscore_score                                         367646\n",
      "nutriscore_grade                                         367646\n",
      "pnns_groups_2                                                 0\n",
      "image_url                                                 58814\n",
      "image_small_url                                           58814\n",
      "energy-kj_100g                                           495430\n",
      "energy-kcal_100g                                         130953\n",
      "energy_100g                                              113444\n",
      "saturated-fat_100g                                       114952\n",
      "sugars_100g                                              115153\n",
      "fiber_100g                                               449375\n",
      "proteins_100g                                            116421\n",
      "sodium_100g                                              131453\n",
      "fruits-vegetables-nuts_100g                              545898\n",
      "fruits-vegetables-nuts-estimate-from-ingredients_100g    380172\n",
      "nutrition-score-fr_100g                                  367644\n",
      "dtype: int64 \n",
      "\n",
      "code                                                     0.000000\n",
      "product_name                                             0.000000\n",
      "additives                                                0.000000\n",
      "huile_palme                                              0.000000\n",
      "nutriscore_score                                         0.668350\n",
      "nutriscore_grade                                         0.668350\n",
      "pnns_groups_2                                            0.000000\n",
      "image_url                                                0.106919\n",
      "image_small_url                                          0.106919\n",
      "energy-kj_100g                                           0.900651\n",
      "energy-kcal_100g                                         0.238062\n",
      "energy_100g                                              0.206232\n",
      "saturated-fat_100g                                       0.208973\n",
      "sugars_100g                                              0.209339\n",
      "fiber_100g                                               0.816927\n",
      "proteins_100g                                            0.211644\n",
      "sodium_100g                                              0.238971\n",
      "fruits-vegetables-nuts_100g                              0.992397\n",
      "fruits-vegetables-nuts-estimate-from-ingredients_100g    0.691121\n",
      "nutrition-score-fr_100g                                  0.668346\n",
      "dtype: float64\n"
     ]
    }
   ],
   "source": [
    "#Vérifions combien nous avons de valeurs manquantes maintenant\n",
    "print(df_fr.isnull().sum(),'\\n')\n",
    "print(df_fr.isnull().mean())"
   ]
  },
  {
   "cell_type": "markdown",
   "id": "9547f754",
   "metadata": {},
   "source": [
    "On supprime nos colonnes concernant les fibres et les fruits, légumes et noix, elles sont encore trop vides et il y aurait trop de valeurs à remplacer."
   ]
  },
  {
   "cell_type": "code",
   "execution_count": 47,
   "id": "cff33d97",
   "metadata": {},
   "outputs": [],
   "source": [
    "df_fr = df_fr.drop(columns = ['fiber_100g', 'fruits-vegetables-nuts_100g',\\\n",
    "                        'fruits-vegetables-nuts-estimate-from-ingredients_100g'])"
   ]
  },
  {
   "cell_type": "markdown",
   "id": "f6511616",
   "metadata": {},
   "source": [
    "Nous voulons les valeurs énergétiques en kJ, nous allons convertir la colonne \"energy-kcal_100g\" sachant que  1kcal = 4.184 kJ."
   ]
  },
  {
   "cell_type": "code",
   "execution_count": 48,
   "id": "f4207d94",
   "metadata": {},
   "outputs": [],
   "source": [
    "df_fr['energy-kcal_100g'] = df_fr['energy-kcal_100g']*4.184"
   ]
  },
  {
   "cell_type": "markdown",
   "id": "2329c639",
   "metadata": {},
   "source": [
    "On supprime les valeurs aberrantes de nos colonnes énergies. On considère comme valeur aberrante, les valeurs supérieures à 900kcal (3765.6kJ)."
   ]
  },
  {
   "cell_type": "code",
   "execution_count": 49,
   "id": "ef740e76",
   "metadata": {},
   "outputs": [],
   "source": [
    "energies = ['energy-kj_100g', 'energy-kcal_100g', 'energy_100g']"
   ]
  },
  {
   "cell_type": "code",
   "execution_count": 50,
   "id": "ae68efa9",
   "metadata": {},
   "outputs": [],
   "source": [
    "for col in energies:\n",
    "    df_fr = df_fr.drop(df_fr[df_fr[col] > 3765.6].index)\n",
    "    df_fr = df_fr.drop(df_fr[df_fr[col] < 0].index)"
   ]
  },
  {
   "cell_type": "code",
   "execution_count": 51,
   "id": "cde096ff",
   "metadata": {},
   "outputs": [
    {
     "data": {
      "text/plain": [
       "(546781, 17)"
      ]
     },
     "execution_count": 51,
     "metadata": {},
     "output_type": "execute_result"
    }
   ],
   "source": [
    "#Regardons combien de lignes il nous reste\n",
    "df_fr.shape"
   ]
  },
  {
   "cell_type": "markdown",
   "id": "61697686",
   "metadata": {},
   "source": [
    "Maintenant, nous pouvons utiliser notre fonction de remplacement pour n'avoir plus qu'une seule colonne concernant la teneur énergétique des produits."
   ]
  },
  {
   "cell_type": "code",
   "execution_count": 52,
   "id": "f35f10f8",
   "metadata": {},
   "outputs": [],
   "source": [
    "remplacement('energy_100g', 'energy-kj_100g', df_fr)\n",
    "remplacement('energy_100g', 'energy-kcal_100g', df_fr)"
   ]
  },
  {
   "cell_type": "code",
   "execution_count": 53,
   "id": "a786b651",
   "metadata": {},
   "outputs": [
    {
     "data": {
      "text/plain": [
       "Index(['code', 'product_name', 'additives', 'huile_palme', 'nutriscore_score',\n",
       "       'nutriscore_grade', 'pnns_groups_2', 'image_url', 'image_small_url',\n",
       "       'energy_100g', 'saturated-fat_100g', 'sugars_100g', 'proteins_100g',\n",
       "       'sodium_100g', 'nutrition-score-fr_100g'],\n",
       "      dtype='object')"
      ]
     },
     "execution_count": 53,
     "metadata": {},
     "output_type": "execute_result"
    }
   ],
   "source": [
    "#Regardons les colonnes qu'il nous reste\n",
    "df_fr.columns"
   ]
  },
  {
   "cell_type": "markdown",
   "id": "08810ce7",
   "metadata": {},
   "source": [
    "Regardons si les valeurs manquantes de nos colonnes images sont les mêmes."
   ]
  },
  {
   "cell_type": "code",
   "execution_count": 54,
   "id": "f4864894",
   "metadata": {},
   "outputs": [],
   "source": [
    "df_image = df_fr.copy()"
   ]
  },
  {
   "cell_type": "code",
   "execution_count": 55,
   "id": "e81370b4",
   "metadata": {},
   "outputs": [],
   "source": [
    "image = df_image[df_image['image_url'].isnull()]['product_name'].unique()"
   ]
  },
  {
   "cell_type": "code",
   "execution_count": 56,
   "id": "04adc4ea",
   "metadata": {},
   "outputs": [],
   "source": [
    "image_small = df_image[df_image['image_small_url'].isnull()]['product_name'].unique()"
   ]
  },
  {
   "cell_type": "code",
   "execution_count": 57,
   "id": "2cb182e6",
   "metadata": {},
   "outputs": [
    {
     "name": "stdout",
     "output_type": "stream",
     "text": [
      "Les listes sont les mêmes\n"
     ]
    }
   ],
   "source": [
    "if(set(image) == set(image_small)):\n",
    "    print(\"Les listes sont les mêmes\")\n",
    "else:\n",
    "    print(\"Les listes sont différentes\")"
   ]
  },
  {
   "cell_type": "markdown",
   "id": "f549b460",
   "metadata": {},
   "source": [
    "On va remplacer nos valeurs manquantes de nos colonnes images par un message expliquant que nous n'avons pas d'images pour ce produit."
   ]
  },
  {
   "cell_type": "code",
   "execution_count": 58,
   "id": "53ecf237",
   "metadata": {},
   "outputs": [],
   "source": [
    "df_fr[['image_url', 'image_small_url']] =\\\n",
    "df_fr[['image_url','image_small_url']].fillna(value = \"Pas d'image disponible\")"
   ]
  },
  {
   "cell_type": "markdown",
   "id": "a238b37c",
   "metadata": {},
   "source": [
    "Nous allons utiliser notre fonction pour combiner nos colonnes sur le nutriscore."
   ]
  },
  {
   "cell_type": "code",
   "execution_count": 59,
   "id": "d9ecf5fe",
   "metadata": {},
   "outputs": [],
   "source": [
    "remplacement('nutriscore_score', 'nutrition-score-fr_100g', df_fr)"
   ]
  },
  {
   "cell_type": "code",
   "execution_count": 60,
   "id": "4144a0e2",
   "metadata": {},
   "outputs": [
    {
     "name": "stdout",
     "output_type": "stream",
     "text": [
      "code                       0\n",
      "product_name               0\n",
      "additives                  0\n",
      "huile_palme                0\n",
      "nutriscore_score      365866\n",
      "nutriscore_grade      365868\n",
      "pnns_groups_2              0\n",
      "image_url                  0\n",
      "image_small_url            0\n",
      "energy_100g           113444\n",
      "saturated-fat_100g    114932\n",
      "sugars_100g           115110\n",
      "proteins_100g         116397\n",
      "sodium_100g           131144\n",
      "dtype: int64 \n",
      "\n",
      "code                  0.000000\n",
      "product_name          0.000000\n",
      "additives             0.000000\n",
      "huile_palme           0.000000\n",
      "nutriscore_score      0.669127\n",
      "nutriscore_grade      0.669131\n",
      "pnns_groups_2         0.000000\n",
      "image_url             0.000000\n",
      "image_small_url       0.000000\n",
      "energy_100g           0.207476\n",
      "saturated-fat_100g    0.210198\n",
      "sugars_100g           0.210523\n",
      "proteins_100g         0.212877\n",
      "sodium_100g           0.239847\n",
      "dtype: float64\n"
     ]
    }
   ],
   "source": [
    "print(df_fr.isnull().sum(), '\\n')\n",
    "print(df_fr.isnull().mean())"
   ]
  },
  {
   "cell_type": "code",
   "execution_count": 61,
   "id": "dd5ec4ea",
   "metadata": {},
   "outputs": [
    {
     "data": {
      "text/plain": [
       "<AxesSubplot:>"
      ]
     },
     "execution_count": 61,
     "metadata": {},
     "output_type": "execute_result"
    },
    {
     "data": {
      "image/png": "[encoded data removed]",
      "text/plain": [
       "<Figure size 1800x720 with 2 Axes>"
      ]
     },
     "metadata": {
      "needs_background": "light"
     },
     "output_type": "display_data"
    }
   ],
   "source": [
    "#Observons visuellement où sont nos valeurs manquantes dans notre jeu de données\n",
    "msno.matrix(df_fr)"
   ]
  },
  {
   "cell_type": "markdown",
   "id": "63df4ca1",
   "metadata": {},
   "source": [
    "On supprime les boissons alcoolisées et les thés, herbes et cafés qui sont des produits qui n'ont pas de nutriscore."
   ]
  },
  {
   "cell_type": "code",
   "execution_count": 62,
   "id": "4b72b7fe",
   "metadata": {},
   "outputs": [],
   "source": [
    "exclus = ['Alcoholic beverages', 'Teas and herbal teas and coffees']\n",
    "\n",
    "df_fr = df_fr[~df_fr['pnns_groups_2'].isin(exclus)]"
   ]
  },
  {
   "cell_type": "markdown",
   "id": "774c5243",
   "metadata": {},
   "source": [
    "Nous souhaitons supprimer les lignes qui ont beaucoup de valeurs nutritionnelles manquantes.  On regarde le nombre de ligne restant selon le nombre de valeurs manquantes par ligne."
   ]
  },
  {
   "cell_type": "code",
   "execution_count": 63,
   "id": "cf8219f3",
   "metadata": {},
   "outputs": [],
   "source": [
    "df_dropped = df_fr[['energy_100g', 'saturated-fat_100g', 'sugars_100g', 'proteins_100g', 'sodium_100g']]"
   ]
  },
  {
   "cell_type": "code",
   "execution_count": 64,
   "id": "f7141d34",
   "metadata": {},
   "outputs": [
    {
     "name": "stdout",
     "output_type": "stream",
     "text": [
      "Avec un threshold de 0 le dataframe aurait 538010 lignes\n",
      "Avec un threshold de 1 le dataframe aurait 440855 lignes\n",
      "Avec un threshold de 2 le dataframe aurait 432741 lignes\n",
      "Avec un threshold de 3 le dataframe aurait 428880 lignes\n",
      "Avec un threshold de 4 le dataframe aurait 427321 lignes\n",
      "Avec un threshold de 5 le dataframe aurait 405805 lignes\n"
     ]
    }
   ],
   "source": [
    "# Un threshold de 1 signifie que nous voulons au moins une valeur nutritionnelle dans notre ligne\n",
    "for val in range(6):\n",
    "    df_dropped.dropna(axis = 0, thresh = val, inplace = True)\n",
    "    print(\"Avec un threshold de\",val,\"le dataframe aurait {} lignes\".format(df_dropped.shape[0]))"
   ]
  },
  {
   "cell_type": "markdown",
   "id": "19a84328",
   "metadata": {},
   "source": [
    "On supprime les lignes qui ont plus de deux valeurs nutritionnelles manquantes."
   ]
  },
  {
   "cell_type": "code",
   "execution_count": 65,
   "id": "822ac8f0",
   "metadata": {},
   "outputs": [],
   "source": [
    "df_fr.dropna(axis = 0, subset = ['energy_100g', 'saturated-fat_100g', 'sugars_100g',\\\n",
    "                               'proteins_100g', 'sodium_100g'], thresh = 3, inplace = True)"
   ]
  },
  {
   "cell_type": "code",
   "execution_count": 66,
   "id": "04b0ff7e",
   "metadata": {},
   "outputs": [
    {
     "data": {
      "text/plain": [
       "(428880, 14)"
      ]
     },
     "execution_count": 66,
     "metadata": {},
     "output_type": "execute_result"
    }
   ],
   "source": [
    "#On vérifie si on retrouve bien le bon nombre de lignes souhaité\n",
    "df_fr.shape"
   ]
  },
  {
   "cell_type": "markdown",
   "id": "a995ad95",
   "metadata": {},
   "source": [
    "Pour les colonnes se rapportant aux valeurs nutritionnelles, nous allons remplacer les valeurs manquantes par la valeur moyenne de chaque groupe de produit (les groupes étant affichés dans la colonne \"pnns_groups_2\"."
   ]
  },
  {
   "cell_type": "code",
   "execution_count": 67,
   "id": "94fa5211",
   "metadata": {},
   "outputs": [],
   "source": [
    "colonnes = ['energy_100g', 'saturated-fat_100g', 'sugars_100g', 'proteins_100g', 'sodium_100g']"
   ]
  },
  {
   "cell_type": "code",
   "execution_count": 68,
   "id": "8c59bb76",
   "metadata": {},
   "outputs": [],
   "source": [
    "for col in colonnes:\n",
    "    df_fr[col] = df_fr[col].fillna(df_fr.groupby('pnns_groups_2')[col].transform('mean'))"
   ]
  },
  {
   "cell_type": "code",
   "execution_count": 69,
   "id": "0e9bff6b",
   "metadata": {},
   "outputs": [
    {
     "data": {
      "text/plain": [
       "<AxesSubplot:>"
      ]
     },
     "execution_count": 69,
     "metadata": {},
     "output_type": "execute_result"
    },
    {
     "data": {
      "image/png": "[encoded data removed]",
      "text/plain": [
       "<Figure size 1800x720 with 2 Axes>"
      ]
     },
     "metadata": {
      "needs_background": "light"
     },
     "output_type": "display_data"
    }
   ],
   "source": [
    "#Vérifions, il ne devrait plus y avoir de valeurs manquantes dans nos colonnes à l'exception de nos colonnes\n",
    "# du nutriscore (\"nutriscore_score\" et \"nutriscore_grade\")\n",
    "msno.matrix(df_fr)"
   ]
  },
  {
   "cell_type": "markdown",
   "id": "9f253c76",
   "metadata": {},
   "source": [
    "Observons la distribution de \"nutriscore_score\" et \"nutriscore_grade\" avant notre imputation."
   ]
  },
  {
   "cell_type": "code",
   "execution_count": 70,
   "id": "1f58842e",
   "metadata": {},
   "outputs": [
    {
     "data": {
      "image/png": "[encoded data removed]",
      "text/plain": [
       "<Figure size 500x500 with 1 Axes>"
      ]
     },
     "metadata": {},
     "output_type": "display_data"
    }
   ],
   "source": [
    "x = pd.Series(df_fr['nutriscore_score'], name = \"nutriscore_score\")\n",
    "\n",
    "plt.style.use('default')\n",
    "ax = sns.displot(x)"
   ]
  },
  {
   "cell_type": "code",
   "execution_count": 71,
   "id": "c7172273",
   "metadata": {},
   "outputs": [],
   "source": [
    "#On ordonne nos valeurs pour avoir nos notes de la meilleur à la moins bonne\n",
    "df_fr.sort_values('nutriscore_grade', inplace = True)"
   ]
  },
  {
   "cell_type": "code",
   "execution_count": 72,
   "id": "029f0906",
   "metadata": {},
   "outputs": [
    {
     "data": {
      "image/png": "[encoded data removed]",
      "text/plain": [
       "<Figure size 500x500 with 1 Axes>"
      ]
     },
     "metadata": {},
     "output_type": "display_data"
    }
   ],
   "source": [
    "x = pd.Series(df_fr['nutriscore_grade'], name = \"nutriscore_grade\")\n",
    "\n",
    "ax = sns.displot(x)"
   ]
  },
  {
   "cell_type": "code",
   "execution_count": 73,
   "id": "e0f0c1e2",
   "metadata": {},
   "outputs": [],
   "source": [
    "#On crée une copie de notre jeu de données qui va nous servir à vérifier que notre imputation\n",
    "# de notre nutriscore_grade, après l'imputation de nutriscore_score, est bonne.\n",
    "df_test = df_fr.copy()"
   ]
  },
  {
   "cell_type": "markdown",
   "id": "491c4171",
   "metadata": {},
   "source": [
    "Nous allons maintenant remplir la colonne \"nutriscore_score\" en utilisant un algorithme de Machine Learning : KNN Regressor. Nous allons regarder les k plus proches voisins de nos valeurs manquantes pour en déterminer la valeur. Ici, un voisin correspond à une ligne."
   ]
  },
  {
   "cell_type": "code",
   "execution_count": 74,
   "id": "bf9deb65",
   "metadata": {},
   "outputs": [],
   "source": [
    "#Il ne doit pas y avoir de valeur manquantes dans les données de notre algorithme,\n",
    "#on crée une copie et on supprime\n",
    "df_ml = df_fr.copy()\n",
    "df_ml = df_ml.dropna(subset = ['nutriscore_score'])"
   ]
  },
  {
   "cell_type": "code",
   "execution_count": 75,
   "id": "7c1e1681",
   "metadata": {},
   "outputs": [],
   "source": [
    "#On garde seulement les colonnes qui nous intéresse pour déterminer le nutriscore : les valeurs nutritionnelles.\n",
    "df_ml = df_ml[['energy_100g', 'saturated-fat_100g', 'sugars_100g',\\\n",
    "               'proteins_100g', 'sodium_100g', 'nutriscore_score']]"
   ]
  },
  {
   "cell_type": "code",
   "execution_count": 76,
   "id": "b1dc9788",
   "metadata": {},
   "outputs": [],
   "source": [
    "#X : les données qui vont nous servir à déterminer notre nutriscore\n",
    "#y : les données à déterminer (ici : le nutriscore)\n",
    "X = df_ml.drop('nutriscore_score', axis = 1).values\n",
    "y = df_ml['nutriscore_score'].values"
   ]
  },
  {
   "cell_type": "code",
   "execution_count": 77,
   "id": "737228f5",
   "metadata": {},
   "outputs": [],
   "source": [
    "#On divise notre DataFrame en deux : jeu d'entraînement (80% du jeu initial), jeu de test (20%)\n",
    "X_train, X_test, y_train, y_test = train_test_split(X, y, random_state = 24, train_size = 0.8)"
   ]
  },
  {
   "cell_type": "code",
   "execution_count": 78,
   "id": "262102ad",
   "metadata": {},
   "outputs": [],
   "source": [
    "#On va devoir centrer et réduire nos données afin de pouvoir les utiliser\n",
    "scaler = StandardScaler()"
   ]
  },
  {
   "cell_type": "code",
   "execution_count": 79,
   "id": "b239c2c8",
   "metadata": {},
   "outputs": [],
   "source": [
    "X_train = scaler.fit_transform(X_train)\n",
    "X_test = scaler.transform(X_test)"
   ]
  },
  {
   "cell_type": "code",
   "execution_count": 81,
   "id": "20be7795",
   "metadata": {},
   "outputs": [
    {
     "name": "stdout",
     "output_type": "stream",
     "text": [
      "Fitting 5 folds for each of 48 candidates, totalling 240 fits\n",
      "{'metric': 'manhattan', 'n_neighbors': 8, 'weights': 'distance'} \n",
      "\n",
      "KNeighborsRegressor(metric='manhattan', n_neighbors=8, weights='distance') \n",
      "\n",
      "0.9081175652347888\n"
     ]
    }
   ],
   "source": [
    "#On va tester notre KNN Regressor selon plusieurs paramètres :\n",
    "# - le nombre de voisins,\n",
    "# - la distance utilisée,\n",
    "# - le type de pondération des plus proches voisins.\n",
    "\n",
    "param_grid = {'n_neighbors': np.arange(1,9), 'metric': ['euclidean', 'manhattan', 'minkowski'],\\\n",
    "              'weights' : ['uniform', 'distance']}\n",
    "knn_cv = GridSearchCV(KNeighborsRegressor(), param_grid, verbose = 1, cv = 5)\n",
    "knn_cv.fit(X_train, y_train) \n",
    "print(knn_cv.best_params_, '\\n')\n",
    "print(knn_cv.best_estimator_, '\\n')\n",
    "print(knn_cv.best_score_)"
   ]
  },
  {
   "cell_type": "code",
   "execution_count": 82,
   "id": "8b723852",
   "metadata": {},
   "outputs": [
    {
     "data": {
      "image/png": "[encoded data removed]",
      "text/plain": [
       "<Figure size 432x288 with 1 Axes>"
      ]
     },
     "metadata": {
      "needs_background": "light"
     },
     "output_type": "display_data"
    }
   ],
   "source": [
    "#On peut observer le résultat précédent graphiquement.\n",
    "#On utilise la distance et la pondération déterminée précédemment.\n",
    "\n",
    "plt.style.use('bmh')\n",
    "neighbors = np.arange(1, 15)\n",
    "train_accuracy = np.empty(len(neighbors))\n",
    "test_accuracy = np.empty(len(neighbors))\n",
    "\n",
    "for i, k in enumerate(neighbors):\n",
    "    knn = KNeighborsRegressor(n_neighbors = k, weights = 'distance', metric = 'manhattan')\n",
    "    knn.fit(X_train,y_train)\n",
    "    train_accuracy[i] = knn.score(X_train, y_train)\n",
    "    test_accuracy[i] = knn.score(X_test, y_test)\n",
    "\n",
    "plt.title('k-NN: Nombre de voisins')\n",
    "plt.plot(neighbors, test_accuracy, label = 'Précision Test')\n",
    "plt.plot(neighbors, train_accuracy, label = 'Précision Entraînement')\n",
    "plt.legend()\n",
    "plt.xlabel('Nombre de voisins')\n",
    "plt.ylabel('Précision')\n",
    "plt.show()"
   ]
  },
  {
   "cell_type": "code",
   "execution_count": 80,
   "id": "24bd0d75",
   "metadata": {
    "scrolled": true
   },
   "outputs": [
    {
     "name": "stdout",
     "output_type": "stream",
     "text": [
      "Score d'entraînement : 0.9940798928358177 \n",
      "\n",
      "Score de test : 0.9104066063882505\n"
     ]
    }
   ],
   "source": [
    "#Nous pouvons maintenant mettre en place notre modèle.\n",
    "knn = KNeighborsRegressor(n_neighbors = 8, weights = 'distance', metric = 'manhattan')\n",
    "knn.fit(X_train, y_train)\n",
    "\n",
    "print(\"Score d'entraînement :\", knn.score(X_train,y_train), ('\\n'))\n",
    "print(\"Score de test :\", knn.score(X_test,y_test))"
   ]
  },
  {
   "cell_type": "code",
   "execution_count": 81,
   "id": "68a26169",
   "metadata": {},
   "outputs": [],
   "source": [
    "#On calcule nos prédictions\n",
    "y_pred = knn.predict(X_test)"
   ]
  },
  {
   "cell_type": "markdown",
   "id": "db5d6ff9",
   "metadata": {},
   "source": [
    "Vérifions la distribution de nos prédictions sur le jeu de test :"
   ]
  },
  {
   "cell_type": "code",
   "execution_count": 82,
   "id": "c124c71c",
   "metadata": {},
   "outputs": [
    {
     "data": {
      "text/plain": [
       "<seaborn.axisgrid.FacetGrid at 0x20ba3249dc0>"
      ]
     },
     "execution_count": 82,
     "metadata": {},
     "output_type": "execute_result"
    },
    {
     "data": {
      "image/png": "[encoded data removed]",
      "text/plain": [
       "<Figure size 500x500 with 1 Axes>"
      ]
     },
     "metadata": {},
     "output_type": "display_data"
    }
   ],
   "source": [
    "plt.style.use('default')\n",
    "sns.displot(y_pred)"
   ]
  },
  {
   "cell_type": "markdown",
   "id": "961dc0c6",
   "metadata": {},
   "source": [
    "La forme est la même que celle du jeu de données principal, nous pouvons imputer nos valeurs manquantes de cette manière."
   ]
  },
  {
   "cell_type": "code",
   "execution_count": 83,
   "id": "96f6900f",
   "metadata": {},
   "outputs": [],
   "source": [
    "df_inter = df_fr.copy()"
   ]
  },
  {
   "cell_type": "code",
   "execution_count": 84,
   "id": "fb859bf1",
   "metadata": {},
   "outputs": [],
   "source": [
    "df_inter = df_inter[['energy_100g', 'saturated-fat_100g', 'sugars_100g',\\\n",
    "               'proteins_100g', 'sodium_100g', 'nutriscore_score']]"
   ]
  },
  {
   "cell_type": "code",
   "execution_count": 85,
   "id": "74908b11",
   "metadata": {},
   "outputs": [],
   "source": [
    "df_inter.dropna(subset = ['energy_100g'], inplace = True)"
   ]
  },
  {
   "cell_type": "code",
   "execution_count": 86,
   "id": "c6d0e698",
   "metadata": {},
   "outputs": [],
   "source": [
    "X = df_inter.drop('nutriscore_score', axis = 1).values\n",
    "X_scaled = scaler.transform(X)\n",
    "\n",
    "y_pred_inter = knn.predict(X_scaled)"
   ]
  },
  {
   "cell_type": "code",
   "execution_count": 87,
   "id": "3d9284ab",
   "metadata": {},
   "outputs": [],
   "source": [
    "df_inter['inter'] = y_pred_inter\n",
    "\n",
    "df_inter['nutriscore_score'] = df_inter['inter']"
   ]
  },
  {
   "cell_type": "code",
   "execution_count": 88,
   "id": "d6bd2aa0",
   "metadata": {},
   "outputs": [],
   "source": [
    "df_imputed = df_fr.copy()"
   ]
  },
  {
   "cell_type": "code",
   "execution_count": 89,
   "id": "e6fe1e57",
   "metadata": {},
   "outputs": [],
   "source": [
    "#On remplace nos valeurs manquantes par les prédictions de notre modèle\n",
    "df_imputed['nutriscore_score'].fillna(df_inter['nutriscore_score'], inplace = True)\n",
    "df_imputed.dropna(subset = ['energy_100g'], inplace = True)"
   ]
  },
  {
   "cell_type": "markdown",
   "id": "cc3da7b3",
   "metadata": {},
   "source": [
    "Nous allons maintenant remplir notre colonne \"nutriscore_grade\" grâce à la formule du Nutriscore. Il faut commencer par diviser nos produits en sous-groupes."
   ]
  },
  {
   "cell_type": "code",
   "execution_count": 90,
   "id": "99a8a072",
   "metadata": {},
   "outputs": [
    {
     "data": {
      "text/plain": [
       "array(['Sweets', 'Dressings and sauces', 'Cereals', 'Nuts', 'Fruits',\n",
       "       'Dried fruits', 'Vegetables', 'Legumes',\n",
       "       'Plant-based milk substitutes', 'Fish and seafood',\n",
       "       'Milk and yogurt', 'Breakfast cereals', 'Bread', 'Soups', 'Eggs',\n",
       "       'One-dish meals', 'Cheese', 'unknown', 'Meat', 'Processed meat',\n",
       "       'Biscuits and cakes', 'Dairy desserts', 'Salty and fatty products',\n",
       "       'Waters and flavored waters', 'Pizza pies and quiches',\n",
       "       'Sandwiches', 'Potatoes', 'Appetizers',\n",
       "       'Artificially sweetened beverages', 'Fats', 'Offals',\n",
       "       'Sweetened beverages', 'Chocolate products', 'Ice cream',\n",
       "       'Pastries', 'Fruit juices', 'Unsweetened beverages',\n",
       "       'Fruit nectars'], dtype=object)"
      ]
     },
     "execution_count": 90,
     "metadata": {},
     "output_type": "execute_result"
    }
   ],
   "source": [
    "df_imputed['pnns_groups_2'].unique()"
   ]
  },
  {
   "cell_type": "code",
   "execution_count": 91,
   "id": "bafc5f83",
   "metadata": {},
   "outputs": [],
   "source": [
    "#Le calcul du nutriscore dépend de la catégorie du produit (eau, boisson ou aliment solide)\n",
    "\n",
    "eaux = ['Waters and flavored waters']\n",
    "\n",
    "boissons = ['Sweetened beverages', 'Fruit juices', 'Unsweetened beverages',\\\n",
    "            'Artificially sweetened beverages', 'Fruit nectars']\n",
    "\n",
    "aliments_solides = ['unknown', 'Dressings and sauces', 'One-dish meals', 'Biscuits and cakes',\\\n",
    "                    'Fruits', 'Meat', 'Cheese', 'Bread', 'Fish and seafood', 'Sweets',\\\n",
    "                    'Salty and fatty products', 'Dried fruits', 'Vegetables', 'Fats',\\\n",
    "                    'Dairy desserts', 'Milk and yogurt', 'Pastries', 'Pizza pies and quiches',\\\n",
    "                    'Legumes', 'Nuts', 'Cereals', 'Breakfast cereals',\\\n",
    "                    'Appetizers', 'Processed meat', 'Chocolate products', 'Eggs',\\\n",
    "                    'Plant-based milk substitutes', 'Sandwiches', 'Ice cream', 'Soups',\\\n",
    "                    'Potatoes', 'Offals', 'pastries', 'Pizza pies and quiche']\n"
   ]
  },
  {
   "cell_type": "code",
   "execution_count": 92,
   "id": "3ccb4232",
   "metadata": {},
   "outputs": [],
   "source": [
    "#On va ne remplacer que les valeurs manquantes. Nous ne touchons pas aux notes déjà présentes\n",
    "df_grade_null = df_imputed[df_imputed['nutriscore_grade'].isnull()]"
   ]
  },
  {
   "cell_type": "code",
   "execution_count": 93,
   "id": "9e480a47",
   "metadata": {},
   "outputs": [],
   "source": [
    "df_eaux = df_grade_null[df_grade_null['pnns_groups_2'].isin(eaux)]\n",
    "\n",
    "df_boissons = df_grade_null[df_grade_null['pnns_groups_2'].isin(boissons)]\n",
    "\n",
    "df_aliments = df_grade_null[df_grade_null['pnns_groups_2'].isin(aliments_solides)]"
   ]
  },
  {
   "cell_type": "code",
   "execution_count": 94,
   "id": "60a80fef",
   "metadata": {},
   "outputs": [],
   "source": [
    "#On associe une note selon le score de chaque produit, selon la catégorie à laquelle il appartient.\n",
    "\n",
    "grade_aliments = []\n",
    "grade_boissons = []\n",
    "grade_eaux = []\n",
    "\n",
    "for value in df_aliments['nutriscore_score'].values:\n",
    "    if value < 0:\n",
    "        grade_aliments.append('a')\n",
    "    elif (value >= 0) & (value < 2.5):\n",
    "        grade_aliments.append('b')\n",
    "    elif (value >= 2.5) & (value < 10.5):\n",
    "        grade_aliments.append('c')\n",
    "    elif (value >= 10.5) & (value <= 18):\n",
    "        grade_aliments.append('d')\n",
    "    else:\n",
    "        grade_aliments.append('e')\n",
    "        \n",
    "for value in df_boissons['nutriscore_score'].values:\n",
    "    if value <= 1:\n",
    "        grade_boissons.append('b')\n",
    "    elif (value > 1) & (value < 5.5):\n",
    "        grade_boissons.append('c')\n",
    "    elif (value >= 5.5) & (value <= 9):\n",
    "        grade_boissons.append('d')\n",
    "    else:\n",
    "        grade_boissons.append('e')\n",
    "        \n",
    "for value in df_eaux['nutriscore_score'].values:\n",
    "    grade_eaux.append('a')"
   ]
  },
  {
   "cell_type": "code",
   "execution_count": 95,
   "id": "1e08c097",
   "metadata": {},
   "outputs": [],
   "source": [
    "df_aliments['nutriscore_grade'] = grade_aliments\n",
    "df_boissons['nutriscore_grade'] = grade_boissons\n",
    "df_eaux['nutriscore_grade'] = grade_eaux"
   ]
  },
  {
   "cell_type": "code",
   "execution_count": 96,
   "id": "fac01fde",
   "metadata": {},
   "outputs": [],
   "source": [
    "for data in [df_aliments, df_boissons, df_eaux]:\n",
    "    df_imputed['nutriscore_grade'].fillna(data['nutriscore_grade'], inplace = True)"
   ]
  },
  {
   "cell_type": "code",
   "execution_count": 97,
   "id": "b5676e42",
   "metadata": {},
   "outputs": [
    {
     "data": {
      "text/plain": [
       "<AxesSubplot:>"
      ]
     },
     "execution_count": 97,
     "metadata": {},
     "output_type": "execute_result"
    },
    {
     "data": {
      "image/png": "[encoded data removed]",
      "text/plain": [
       "<Figure size 2500x1000 with 2 Axes>"
      ]
     },
     "metadata": {},
     "output_type": "display_data"
    }
   ],
   "source": [
    "#Nous ne devrions plus avoir de valeurs manquantes\n",
    "msno.matrix(df_imputed)"
   ]
  },
  {
   "cell_type": "code",
   "execution_count": 98,
   "id": "b8c05065",
   "metadata": {},
   "outputs": [],
   "source": [
    "#On va tester notre formule du nutriscore_grade sur les valeurs déjà remplies, pour vérifier notre formule.\n",
    "df_bis = df_imputed.copy()"
   ]
  },
  {
   "cell_type": "code",
   "execution_count": 99,
   "id": "78553308",
   "metadata": {},
   "outputs": [],
   "source": [
    "df_eaux_bis = df_bis[df_bis['pnns_groups_2'].isin(eaux)]\n",
    "\n",
    "df_boissons_bis = df_bis[df_bis['pnns_groups_2'].isin(boissons)]\n",
    "\n",
    "df_aliments_bis = df_bis[df_bis['pnns_groups_2'].isin(aliments_solides)]\n",
    "\n",
    "grade_aliments_bis = []\n",
    "grade_boissons_bis = []\n",
    "grade_eaux_bis = []\n",
    "\n",
    "for value in df_aliments_bis['nutriscore_score'].values:\n",
    "    if value < 0:\n",
    "        grade_aliments_bis.append('a')\n",
    "    elif (value >= 0) & (value < 2.5):\n",
    "        grade_aliments_bis.append('b')\n",
    "    elif (value >= 2.5) & (value < 10.5):\n",
    "        grade_aliments_bis.append('c')\n",
    "    elif (value >= 10.5) & (value <= 18):\n",
    "        grade_aliments_bis.append('d')\n",
    "    else:\n",
    "        grade_aliments_bis.append('e')\n",
    "        \n",
    "for value in df_boissons_bis['nutriscore_score'].values:\n",
    "    if value <= 1:\n",
    "        grade_boissons_bis.append('b')\n",
    "    elif (value > 1) & (value < 5.5):\n",
    "        grade_boissons_bis.append('c')\n",
    "    elif (value >= 5.5) & (value <= 9):\n",
    "        grade_boissons_bis.append('d')\n",
    "    else:\n",
    "        grade_boissons_bis.append('e')\n",
    "        \n",
    "for value in df_eaux_bis['nutriscore_score'].values:\n",
    "    grade_eaux_bis.append('a')"
   ]
  },
  {
   "cell_type": "code",
   "execution_count": 100,
   "id": "520acb42",
   "metadata": {},
   "outputs": [],
   "source": [
    "df_aliments_bis['nutriscore_grade'] = grade_aliments_bis\n",
    "df_boissons_bis['nutriscore_grade'] = grade_boissons_bis\n",
    "df_eaux_bis['nutriscore_grade'] = grade_eaux_bis\n",
    "\n",
    "nutriscore_grade = grade_aliments_bis + grade_boissons_bis + grade_eaux_bis\n",
    "\n",
    "df_bis['nutriscore_grade_test'] = nutriscore_grade"
   ]
  },
  {
   "cell_type": "code",
   "execution_count": 101,
   "id": "616d468a",
   "metadata": {},
   "outputs": [],
   "source": [
    "#On met nos valeurs sous forme de liste pour les comparer\n",
    "bis = df_bis['nutriscore_grade'].tolist()\n",
    "test = df_bis['nutriscore_grade_test'].tolist()"
   ]
  },
  {
   "cell_type": "code",
   "execution_count": 102,
   "id": "42bd798e",
   "metadata": {},
   "outputs": [
    {
     "name": "stdout",
     "output_type": "stream",
     "text": [
      "Les listes sont les mêmes\n"
     ]
    }
   ],
   "source": [
    "if(set(bis) == set(test)):\n",
    "    print(\"Les listes sont les mêmes\")\n",
    "else:\n",
    "    print(\"Les listes sont différentes\")"
   ]
  },
  {
   "cell_type": "markdown",
   "id": "0039a180",
   "metadata": {},
   "source": [
    "On peut vérifier ce résultat en calculant la corrélation entre nos anciennes valeurs et ces mêmes valeurs si nous utilisions notre formule de calcul du nutriscore_grade."
   ]
  },
  {
   "cell_type": "code",
   "execution_count": 103,
   "id": "4457578b",
   "metadata": {},
   "outputs": [],
   "source": [
    "#On commence par ne garder que les lignes qui avaient une note au départ.\n",
    "df_grade_test = df_test.dropna(subset = ['nutriscore_grade'])\n",
    "\n",
    "df_bis = df_bis[df_bis.index.isin(df_grade_test.index)]\n",
    "\n",
    "#Pour calculer une matrice de corrélation, nous avons besoin de valeurs numériques.\n",
    "df_grade_test['nutriscore_grade_distrib'] = \\\n",
    "df_grade_test['nutriscore_grade'].replace(['a', 'b', 'c', 'd', 'e'], [1 ,2 ,3 ,4 ,5])\n",
    "\n",
    "df_bis['nutriscore_grade_distrib'] = \\\n",
    "df_bis['nutriscore_grade'].replace(['a', 'b', 'c', 'd', 'e'], [1 ,2 ,3 ,4 ,5])"
   ]
  },
  {
   "cell_type": "code",
   "execution_count": 104,
   "id": "fc013fba",
   "metadata": {},
   "outputs": [
    {
     "data": {
      "text/html": [
       "<div>\n",
       "<style scoped>\n",
       "    .dataframe tbody tr th:only-of-type {\n",
       "        vertical-align: middle;\n",
       "    }\n",
       "\n",
       "    .dataframe tbody tr th {\n",
       "        vertical-align: top;\n",
       "    }\n",
       "\n",
       "    .dataframe thead th {\n",
       "        text-align: right;\n",
       "    }\n",
       "</style>\n",
       "<table border=\"1\" class=\"dataframe\">\n",
       "  <thead>\n",
       "    <tr style=\"text-align: right;\">\n",
       "      <th></th>\n",
       "      <th>nutriscore_grade_test</th>\n",
       "      <th>nutriscore_grade_distrib</th>\n",
       "    </tr>\n",
       "  </thead>\n",
       "  <tbody>\n",
       "    <tr>\n",
       "      <th>nutriscore_grade_test</th>\n",
       "      <td>1.0</td>\n",
       "      <td>1.0</td>\n",
       "    </tr>\n",
       "    <tr>\n",
       "      <th>nutriscore_grade_distrib</th>\n",
       "      <td>1.0</td>\n",
       "      <td>1.0</td>\n",
       "    </tr>\n",
       "  </tbody>\n",
       "</table>\n",
       "</div>"
      ],
      "text/plain": [
       "                          nutriscore_grade_test  nutriscore_grade_distrib\n",
       "nutriscore_grade_test                       1.0                       1.0\n",
       "nutriscore_grade_distrib                    1.0                       1.0"
      ]
     },
     "execution_count": 104,
     "metadata": {},
     "output_type": "execute_result"
    }
   ],
   "source": [
    "df_bis['nutriscore_grade_test'] = df_grade_test['nutriscore_grade_distrib']\n",
    "\n",
    "df_bis[['nutriscore_grade_test', 'nutriscore_grade_distrib']].corr()"
   ]
  },
  {
   "cell_type": "markdown",
   "id": "84d237cc",
   "metadata": {},
   "source": [
    "Vérifions la distribution de notre nutriscore_score et nutriscore_grade après notre imputation :"
   ]
  },
  {
   "cell_type": "code",
   "execution_count": 105,
   "id": "e96c1195",
   "metadata": {},
   "outputs": [
    {
     "data": {
      "image/png": "[encoded data removed]",
      "text/plain": [
       "<Figure size 500x500 with 1 Axes>"
      ]
     },
     "metadata": {},
     "output_type": "display_data"
    }
   ],
   "source": [
    "x = pd.Series(df_imputed['nutriscore_score'], name = \"nutriscore_score\")\n",
    "\n",
    "ax = sns.displot(x)"
   ]
  },
  {
   "cell_type": "code",
   "execution_count": 106,
   "id": "0e072b15",
   "metadata": {},
   "outputs": [],
   "source": [
    "#On ordonne nos valeurs pour avoir nos notes de la meilleur à la moins bonne\n",
    "df_imputed.sort_values('nutriscore_grade', inplace = True)"
   ]
  },
  {
   "cell_type": "code",
   "execution_count": 107,
   "id": "a4c7a212",
   "metadata": {},
   "outputs": [
    {
     "data": {
      "image/png": "[encoded data removed]",
      "text/plain": [
       "<Figure size 500x500 with 1 Axes>"
      ]
     },
     "metadata": {},
     "output_type": "display_data"
    }
   ],
   "source": [
    "x = pd.Series(df_imputed['nutriscore_grade'], name = \"nutriscore_grade\")\n",
    "\n",
    "ax = sns.displot(x)"
   ]
  },
  {
   "cell_type": "code",
   "execution_count": 108,
   "id": "ac0f7782",
   "metadata": {},
   "outputs": [
    {
     "data": {
      "text/plain": [
       "code                  0\n",
       "product_name          0\n",
       "additives             0\n",
       "huile_palme           0\n",
       "nutriscore_score      0\n",
       "nutriscore_grade      0\n",
       "pnns_groups_2         0\n",
       "image_url             0\n",
       "image_small_url       0\n",
       "energy_100g           0\n",
       "saturated-fat_100g    0\n",
       "sugars_100g           0\n",
       "proteins_100g         0\n",
       "sodium_100g           0\n",
       "dtype: int64"
      ]
     },
     "execution_count": 108,
     "metadata": {},
     "output_type": "execute_result"
    }
   ],
   "source": [
    "#On vérifie qu'il n'y a plus de valeurs manquantes\n",
    "df_imputed.isnull().sum()"
   ]
  },
  {
   "cell_type": "code",
   "execution_count": 109,
   "id": "425a2ded",
   "metadata": {},
   "outputs": [],
   "source": [
    "#On sauvegarde notre jeu de données au format .csv\n",
    "data_imputed = df_imputed.to_csv('data_to_analyze.csv')"
   ]
  },
  {
   "cell_type": "code",
   "execution_count": null,
   "id": "650e09fb",
   "metadata": {},
   "outputs": [],
   "source": []
  }
 ],
 "metadata": {
  "kernelspec": {
   "display_name": "Python 3",
   "language": "python",
   "name": "python3"
  },
  "language_info": {
   "codemirror_mode": {
    "name": "ipython",
    "version": 3
   },
   "file_extension": ".py",
   "mimetype": "text/x-python",
   "name": "python",
   "nbconvert_exporter": "python",
   "pygments_lexer": "ipython3",
   "version": "3.8.8"
  }
 },
 "nbformat": 4,
 "nbformat_minor": 5
}
